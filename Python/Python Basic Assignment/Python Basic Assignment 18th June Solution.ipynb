{
 "cells": [
  {
   "cell_type": "markdown",
   "metadata": {},
   "source": [
    "#  Python Basic Assignment Solution\n"
   ]
  },
  {
   "cell_type": "markdown",
   "metadata": {},
   "source": [
    "# 18th June 2023\n"
   ]
  },
  {
   "cell_type": "markdown",
   "metadata": {},
   "source": [
    "# Submitted By : Himanshu Dixit"
   ]
  },
  {
   "cell_type": "markdown",
   "metadata": {},
   "source": [
    "### 1. What is the role of the 'else' block in a try-except statement? Provide an example scenario where it would be useful.\n"
   ]
  },
  {
   "cell_type": "markdown",
   "metadata": {},
   "source": [
    "**Ans**\n",
    "\n",
    "In try-except statement we use else block also. It let's us execute our program when there is no error in the code."
   ]
  },
  {
   "cell_type": "code",
   "execution_count": 2,
   "metadata": {},
   "outputs": [
    {
     "name": "stdout",
     "output_type": "stream",
     "text": [
      "Hello\n",
      "Nothing went wrong\n"
     ]
    }
   ],
   "source": [
    "\n",
    "# else block\n",
    "try:\n",
    "    print(\"Hello\")\n",
    "except:\n",
    "    print(\"Something went wrong\")\n",
    "else:\n",
    "    print(\"Nothing went wrong\")\n"
   ]
  },
  {
   "cell_type": "markdown",
   "metadata": {},
   "source": [
    "### 2. Can a try-except block be nested inside another try-except block? Explain with an example.\n"
   ]
  },
  {
   "cell_type": "code",
   "execution_count": 23,
   "metadata": {},
   "outputs": [
    {
     "name": "stdout",
     "output_type": "stream",
     "text": [
      "outer try block\n",
      "nested try block\n",
      "outer except block\n"
     ]
    }
   ],
   "source": [
    "# Yes, a try-except block can be nested inside try-except block\n",
    "\n",
    "#nested try-except block\n",
    "x = 10\n",
    "y = 0\n",
    "try:\n",
    "    print(\"outer try block\")\n",
    "    try:\n",
    "        print(\"nested try block\")\n",
    "        print(x / y)\n",
    "    except TypeError:\n",
    "        print(\"nested except block\")\n",
    "except ZeroDivisionError:\n",
    "    print(\"outer except block\")\n"
   ]
  },
  {
   "cell_type": "markdown",
   "metadata": {},
   "source": [
    "### 3. How can you create a custom exception class in Python? Provide an example that demonstrates its usage.\n"
   ]
  },
  {
   "cell_type": "markdown",
   "metadata": {},
   "source": [
    "**Ans**\n",
    "\n",
    "We can create a custom class in python by using raise function, when the error is expected in the program then we can cature that exception by using except block in the program same as normal program.\n"
   ]
  },
  {
   "cell_type": "code",
   "execution_count": 22,
   "metadata": {},
   "outputs": [
    {
     "name": "stdout",
     "output_type": "stream",
     "text": [
      "Enter a number: 12\n",
      "Exception occurred: Invalid Age\n"
     ]
    }
   ],
   "source": [
    "# user-defined exceptions\n",
    "class InvalidAgeException(Exception):\n",
    "    \"Raised when the input value is less than 18\"\n",
    "    pass\n",
    "age = 18\n",
    "try:\n",
    "    input_num = int(input(\"Enter a number: \"))\n",
    "    if input_num < age:\n",
    "        raise InvalidAgeException\n",
    "    else:\n",
    "        print(\"Eligible to Vote\")\n",
    "except InvalidAgeException:\n",
    "    print(\"Exception occurred: Invalid Age\")"
   ]
  },
  {
   "cell_type": "markdown",
   "metadata": {},
   "source": [
    "### 4. What are some common exceptions that are built-in to Python?\n"
   ]
  },
  {
   "cell_type": "markdown",
   "metadata": {},
   "source": [
    "**Ans**\n",
    "\n",
    "There are many built-in python functions but some common are given below.\n",
    "\n",
    "` ArithmeticError \n",
    "AttributeError \n",
    "EOFError\n",
    "FloatingPointError\n",
    "ImportError\n",
    "IndentationError\n",
    "IndexError\n",
    "KeyError\n",
    "SystemError\n",
    "ValueError\n",
    "ZeroDivisionError `"
   ]
  },
  {
   "cell_type": "markdown",
   "metadata": {},
   "source": [
    "### 5. What is logging in Python, and why is it important in software development?\n"
   ]
  },
  {
   "cell_type": "markdown",
   "metadata": {},
   "source": [
    "**Ans**\n",
    "Logging in a program mean tracking of the events that happen when some software/program runs. <br>\n",
    "Logging is important for software developing, debugging, and running. If we don’t have any logging record and our program and it crashes, then there are very few chances that we can detect the cause of the problem. <br> \n",
    "For Eg : When huge system and api are made then we check the logs which says what request was sent by the cosumer and then what response was recieved by our core system."
   ]
  },
  {
   "cell_type": "markdown",
   "metadata": {},
   "source": [
    "### 6. Explain the purpose of log levels in Python logging and provide examples of when each log level would be appropriate.\n"
   ]
  },
  {
   "cell_type": "markdown",
   "metadata": {},
   "source": [
    "**Ans**\n",
    "When we set logging level in Python using the standard module, we are telling the library that we want to handle all events from that level up. Setting the log level to INFO will include INFO, WARNING, ERROR, and CRITICAL messages. NOTSET and DEBUG messages will not be included in this level then. <br><br>\n",
    "\n",
    "\n",
    "| Level | Numeric Value | Definition |\n",
    "| --- | --- | --- |\n",
    "| CRITICAL | 50 | most dangerous error(can't be fixed by codes) |\n",
    "| ERROR | 40 | actual errors in code |\n",
    "| WARNING | 30 | just warining(in future it can be create error) |\n",
    "| INFO | 20 | increasing order danger(least error) |\n",
    "| DEBUG | 10 | increasing order danger(least error) |\n",
    "| NOTSET | 0 | Nothing |\n",
    "\n"
   ]
  },
  {
   "cell_type": "code",
   "execution_count": 3,
   "metadata": {},
   "outputs": [
    {
     "name": "stderr",
     "output_type": "stream",
     "text": [
      "DEBUG:root:Variables are 2 and 3\n"
     ]
    },
    {
     "data": {
      "text/plain": [
       "5"
      ]
     },
     "execution_count": 3,
     "metadata": {},
     "output_type": "execute_result"
    }
   ],
   "source": [
    "# DEBUG\n",
    "import logging\n",
    "logging.basicConfig(level=logging.DEBUG)\n",
    "def add(x, y):\n",
    "    logging.debug(\"Variables are %s and %s\", x, y)\n",
    "    return x + y\n",
    "add(2, 3)"
   ]
  },
  {
   "cell_type": "code",
   "execution_count": 4,
   "metadata": {},
   "outputs": [
    {
     "name": "stderr",
     "output_type": "stream",
     "text": [
      "INFO:root:User name is Admin\n"
     ]
    }
   ],
   "source": [
    "# INFO\n",
    "import logging\n",
    "logging.basicConfig(level=logging.INFO)\n",
    "def login123(user):\n",
    "    logging.info('User name is %s', user)\n",
    "login123('Admin')"
   ]
  },
  {
   "cell_type": "code",
   "execution_count": 5,
   "metadata": {},
   "outputs": [
    {
     "name": "stderr",
     "output_type": "stream",
     "text": [
      "WARNING:root:Sorry you have low balance, your balance is 10000\n"
     ]
    }
   ],
   "source": [
    "# WARNING\n",
    "import logging\n",
    "logging.basicConfig(level=logging.WARNING)\n",
    "def MyBalance(amount):\n",
    "    if amount < 40000:\n",
    "        logging.warning(\"Sorry you have low balance, your balance is %s\", amount)\n",
    "MyBalance(10000)\n"
   ]
  },
  {
   "cell_type": "code",
   "execution_count": 6,
   "metadata": {},
   "outputs": [
    {
     "name": "stderr",
     "output_type": "stream",
     "text": [
      "ERROR:root:Division by Zero\n"
     ]
    }
   ],
   "source": [
    "# Error\n",
    "import logging\n",
    "logging.basicConfig(level=logging.ERROR)\n",
    "def DivideByZero(n, d):\n",
    "    try:\n",
    "        result = n/d\n",
    "    except ZeroDivisionError:\n",
    "        logging.error(\"Division by Zero\")\n",
    "    else:\n",
    "        print(result)\n",
    "DivideByZero(5, 0)"
   ]
  },
  {
   "cell_type": "code",
   "execution_count": 7,
   "metadata": {},
   "outputs": [
    {
     "name": "stderr",
     "output_type": "stream",
     "text": [
      "CRITICAL:root:System failured to boot : You need to handle the issue\n"
     ]
    }
   ],
   "source": [
    "# CRITICAL ERROR\n",
    "import logging\n",
    "\n",
    "logging.basicConfig(level=logging.CRITICAL)\n",
    "\n",
    "def LetUsCheckSystem(sys):\n",
    "    if sys != 'OK':\n",
    "        logging.critical('System failured to boot : %s', sys)\n",
    "\n",
    "LetUsCheckSystem('You need to handle the issue')"
   ]
  },
  {
   "cell_type": "markdown",
   "metadata": {},
   "source": [
    "### 7. What are log formatters in Python logging, and how can you customise the log message format using formatters?\n"
   ]
  },
  {
   "cell_type": "markdown",
   "metadata": {},
   "source": [
    "**Ans**\n",
    "\n",
    "The handlers use logging.Formatter objects to format a log record into a string-based log entry.<br>\n",
    "Note: Formatters do not control the creation of log messages.<br>\n",
    "A formatter works by combining the fields/data in a log record with the user-specified format string.<br>\n"
   ]
  },
  {
   "cell_type": "code",
   "execution_count": 9,
   "metadata": {},
   "outputs": [
    {
     "name": "stderr",
     "output_type": "stream",
     "text": [
      "CRITICAL:root:System failure: You need to handle the issue now\n"
     ]
    }
   ],
   "source": [
    "import os\n",
    "import logging\n",
    "dir_path =  r\"C:\\Users\\lenovo\\Desktop\\Data science\\Assignment Submission\\Python Basic Assignments\\Python Basic Assignment 18th June Solution\"\n",
    "log_file = 'system.txt'\n",
    "full_path = os.path.join(dir_path, log_file)\n",
    "os.makedirs(dir_path, exist_ok=True)\n",
    "logger = logging.getLogger()\n",
    "logger.setLevel(logging.CRITICAL)\n",
    "handler = logging.FileHandler(full_path)\n",
    "handler.setFormatter(logging.Formatter('%(asctime)s:%(levelname)s:%(message)s'))\n",
    "logger.addHandler(handler)\n",
    "def LetUsCheckSystem(sys):\n",
    "    if sys != 'OK':\n",
    "        logging.critical('System failure: %s', sys)\n",
    "LetUsCheckSystem('You need to handle the issue now')\n",
    "handler.close()"
   ]
  },
  {
   "cell_type": "markdown",
   "metadata": {},
   "source": [
    "### 8. How can you set up logging to capture log messages from multiple modules or classes in a Python application?\n"
   ]
  },
  {
   "cell_type": "markdown",
   "metadata": {},
   "source": [
    "**Ans**\n",
    "\n",
    "We can define our own logger by creating an object of the Logger class, especially if our application has multiple modules."
   ]
  },
  {
   "cell_type": "markdown",
   "metadata": {},
   "source": [
    "### 9. What is the difference between the logging and print statements in Python? When should you use logging over print statements in a real-world application?\n"
   ]
  },
  {
   "cell_type": "markdown",
   "metadata": {},
   "source": [
    "**Ans**\n",
    "\n",
    "\n",
    "\n",
    "| Logging | Print |\n",
    "| --- | --- |\n",
    "| Lgging helps us in recording the error during execution of a python program | Print display the info on console for debugging purpose |\n",
    "| Used in Production environments only | It is mainly for debugging |\n",
    "| Features like Log levels, filtering, formatting, and many more. | There are no good features. |\n",
    "| It has different log levels such as Debug, Info, Error, Warning, and Critical. | It does not have any levels, it simply prints whatever is passed to it. |"
   ]
  },
  {
   "cell_type": "code",
   "execution_count": 21,
   "metadata": {},
   "outputs": [
    {
     "name": "stdout",
     "output_type": "stream",
     "text": [
      "Hello\n"
     ]
    }
   ],
   "source": [
    "# Print \n",
    "print(\"Hello\")"
   ]
  },
  {
   "cell_type": "code",
   "execution_count": 11,
   "metadata": {},
   "outputs": [],
   "source": [
    "# Logging\n",
    "import logging; \n",
    "logging.basicConfig(level=logging.INFO); \n",
    "logging.info(\"Hello\")"
   ]
  },
  {
   "cell_type": "markdown",
   "metadata": {},
   "source": [
    "### 10. Write a Python program that logs a message to a file named \"app.log\" with the following requirements:\n",
    "`● The log message should be \"Hello, World!\"\n",
    " ● The log level should be set to \"INFO.\"\n",
    " ● The log file should append new log entries without overwriting previous ones.`\n"
   ]
  },
  {
   "cell_type": "code",
   "execution_count": 18,
   "metadata": {},
   "outputs": [
    {
     "name": "stderr",
     "output_type": "stream",
     "text": [
      "INFO:root:Hello, World\n",
      "root        : INFO     Hello, World\n"
     ]
    }
   ],
   "source": [
    "import os\n",
    "import logging\n",
    "dir_path =  r\"C:\\Users\\lenovo\\Desktop\\Data science\\Assignment Submission\\Python Basic Assignments\\Python Basic Assignment 18th June Solution\"\n",
    "log_file = 'app.log'\n",
    "full_path = os.path.join(dir_path, log_file)\n",
    "os.makedirs(dir_path, exist_ok=True)\n",
    "logger = logging.getLogger()\n",
    "logger.setLevel(logging.INFO)\n",
    "#Filehandler event\n",
    "handler = logging.FileHandler(full_path)\n",
    "handler.setFormatter(logging.Formatter('%(asctime)s:%(levelname)s:%(message)s'))\n",
    "logger.addHandler(handler)\n",
    "def LetUsCheckSystem(sys):\n",
    "    if sys != 'OK':\n",
    "        logging.info('%s', sys)\n",
    "LetUsCheckSystem('Hello, World')\n",
    "handler.close()"
   ]
  },
  {
   "cell_type": "markdown",
   "metadata": {},
   "source": [
    "### 11. Create a Python program that logs an error message to the console and a file named\"errors.log\" if an exception occurs during the program's execution. The error message should include the exception type and a timestamp."
   ]
  },
  {
   "cell_type": "code",
   "execution_count": 20,
   "metadata": {},
   "outputs": [
    {
     "name": "stderr",
     "output_type": "stream",
     "text": [
      "INFO:root:Jackdaws love my big sphinx of quartz.\n",
      "root        : INFO     Jackdaws love my big sphinx of quartz.\n",
      "root        : INFO     Jackdaws love my big sphinx of quartz.\n",
      "INFO:myapp.area1:How quickly daft jumping zebras vex.\n",
      "myapp.area1 : INFO     How quickly daft jumping zebras vex.\n",
      "myapp.area1 : INFO     How quickly daft jumping zebras vex.\n",
      "WARNING:myapp.area2:Jail zesty vixen who grabbed pay from quack.\n",
      "myapp.area2 : WARNING  Jail zesty vixen who grabbed pay from quack.\n",
      "myapp.area2 : WARNING  Jail zesty vixen who grabbed pay from quack.\n",
      "ERROR:myapp.area2:The five boxing wizards jump quickly.\n",
      "myapp.area2 : ERROR    The five boxing wizards jump quickly.\n",
      "myapp.area2 : ERROR    The five boxing wizards jump quickly.\n"
     ]
    }
   ],
   "source": [
    "import logging\n",
    "logging.basicConfig(level=logging.DEBUG,\n",
    "                    format='%(asctime)s %(name)-12s %(levelname)-8s %(message)s',\n",
    "                    datefmt='%m-%d %H:%M',\n",
    "                    filename='C:/Users/lenovo/Desktop/Data_science/Assignment_Submission/Python_Basic_Assignments/Python Basic_Assignment_18th_June_Solution/error.log' ,\n",
    "                    filemode='w')\n",
    "console = logging.StreamHandler()\n",
    "console.setLevel(logging.INFO)\n",
    "formatter = logging.Formatter('%(name)-12s: %(levelname)-8s %(message)s')\n",
    "console.setFormatter(formatter)\n",
    "logging.getLogger('').addHandler(console)\n",
    "logging.info('Jackdaws love my big sphinx of quartz.')\n",
    "logger1 = logging.getLogger('myapp.area1')\n",
    "logger2 = logging.getLogger('myapp.area2')\n",
    "logger1.debug('Quick zephyrs blow, vexing daft Jim.')\n",
    "logger1.info('How quickly daft jumping zebras vex.')\n",
    "logger2.warning('Jail zesty vixen who grabbed pay from quack.')\n",
    "logger2.error('The five boxing wizards jump quickly.')"
   ]
  }
 ],
 "metadata": {
  "kernelspec": {
   "display_name": "Python 3",
   "language": "python",
   "name": "python3"
  },
  "language_info": {
   "codemirror_mode": {
    "name": "ipython",
    "version": 3
   },
   "file_extension": ".py",
   "mimetype": "text/x-python",
   "name": "python",
   "nbconvert_exporter": "python",
   "pygments_lexer": "ipython3",
   "version": "3.8.5"
  }
 },
 "nbformat": 4,
 "nbformat_minor": 4
}
