{
 "cells": [
  {
   "cell_type": "markdown",
   "metadata": {},
   "source": [
    "# Python Basic Assignment Solution"
   ]
  },
  {
   "cell_type": "markdown",
   "metadata": {},
   "source": [
    "# 11th June 2023"
   ]
  },
  {
   "cell_type": "markdown",
   "metadata": {},
   "source": [
    "# Submitted By :  *Himanshu Dixit* "
   ]
  },
  {
   "cell_type": "markdown",
   "metadata": {},
   "source": [
    "### 1. What is a lambda function in Python, and how does it differ from a regular function?\n"
   ]
  },
  {
   "cell_type": "markdown",
   "metadata": {},
   "source": [
    "**Ans**\n",
    "A lambda function is also known as anonymous function because it can defined without a name, can take any number of arguments and unlike normal functions, evaluates and returns only one expression.<br>\n",
    "Unlike a normal function, in lambda function we don't surround the parameters of a lambda function with parentheses. If a lambda function takes two or more parameters, we list them with a comma.\n",
    "\n"
   ]
  },
  {
   "cell_type": "code",
   "execution_count": 36,
   "metadata": {},
   "outputs": [
    {
     "name": "stdout",
     "output_type": "stream",
     "text": [
      "5\n"
     ]
    }
   ],
   "source": [
    "#normal function\n",
    "def increment_by_one(x):\n",
    "    print(x+1)\n",
    "    return \n",
    "increment_by_one(4)\n",
    "\n"
   ]
  },
  {
   "cell_type": "code",
   "execution_count": 35,
   "metadata": {},
   "outputs": [
    {
     "data": {
      "text/plain": [
       "5"
      ]
     },
     "execution_count": 35,
     "metadata": {},
     "output_type": "execute_result"
    }
   ],
   "source": [
    "#lambda function\n",
    "(lambda x: x + 1)(4)"
   ]
  },
  {
   "cell_type": "markdown",
   "metadata": {},
   "source": [
    "### 2. Can a lambda function in Python have multiple arguments? If yes, how can you define and use them?\n",
    "\n"
   ]
  },
  {
   "cell_type": "markdown",
   "metadata": {},
   "source": [
    "**Ans**\n",
    "\n",
    "Yes, a lambda function can have multiple arguments in it. If a lambda function takes two or more parameters, we list them inside lambda with a comma in it.\n"
   ]
  },
  {
   "cell_type": "code",
   "execution_count": 21,
   "metadata": {},
   "outputs": [
    {
     "name": "stdout",
     "output_type": "stream",
     "text": [
      "sum with multiple arguments in lambda is : 12\n"
     ]
    }
   ],
   "source": [
    "\n",
    "# multiple arguments in lambda\n",
    "a = 3\n",
    "b = 4\n",
    "c = 5\n",
    "lambda_sum = (lambda x, y, z: x + y + z) (a, b, c)\n",
    "print(\"sum with multiple arguments in lambda is :\",lambda_sum)\n",
    "\n",
    "\n"
   ]
  },
  {
   "cell_type": "markdown",
   "metadata": {},
   "source": [
    "### 3. How are lambda functions typically used in Python? Provide an example use case.\n"
   ]
  },
  {
   "cell_type": "markdown",
   "metadata": {},
   "source": [
    "**Ans**\n",
    "\n",
    "In Python, we generally use Lambda Functions as an argument to a higher-order function (a function that takes in other functions as arguments).\n",
    "\n",
    "For Example, These are used together with built-in functions like filter(), map(), and reduce(), etc, which we will discuss later in this article.\n"
   ]
  },
  {
   "cell_type": "code",
   "execution_count": 22,
   "metadata": {},
   "outputs": [
    {
     "name": "stdout",
     "output_type": "stream",
     "text": [
      "[10, 8, 7, 11]\n"
     ]
    }
   ],
   "source": [
    "\n",
    "list_new  = [10, 2, 8, 7, 5, 4, 3, 11]\n",
    "list_more_than_6 = filter(lambda x: x>6, list_new)\n",
    "print(list(list_more_than_6))\n",
    "\n"
   ]
  },
  {
   "cell_type": "markdown",
   "metadata": {},
   "source": [
    "### 4. What are the advantages and limitations of lambda functions compared to regular functions in Python?\n"
   ]
  },
  {
   "cell_type": "markdown",
   "metadata": {},
   "source": [
    "**Ans**\n",
    "\n",
    "`Advantage of Lambda functions`\n",
    "1. They can be immediately passed around (no variable needed)\n",
    "2. They can only have a single line of code within them and execute comparatively faster\n",
    "3. They return automatically\n",
    "4. Lambda functions make code much more readable by avoiding the logical jumps\n",
    "\n",
    "`Disadvantage of Lambda functions`\n",
    "1. Lambda is not user-friendly as def\n",
    "2. It is problem when we need to build a complex function\n",
    "3. Lambda functions can have only one expression. It can't be acceptable in all the circumstances\n",
    "4. They cannot have a docstring in them to explain major functions.\n"
   ]
  },
  {
   "cell_type": "code",
   "execution_count": 1,
   "metadata": {},
   "outputs": [
    {
     "name": "stdout",
     "output_type": "stream",
     "text": [
      "5\n"
     ]
    }
   ],
   "source": [
    "d = (lambda x, y, z: x*y+z)(1, 2, 3)\n",
    "print(d)\n",
    "\n"
   ]
  },
  {
   "cell_type": "code",
   "execution_count": 2,
   "metadata": {},
   "outputs": [
    {
     "name": "stdout",
     "output_type": "stream",
     "text": [
      "5\n",
      "\n",
      "    This is doc string\n",
      "    We are multipplying x with y and then \n",
      "    adding z in the calculation.\n"
     ]
    }
   ],
   "source": [
    "def fun(x, y, z):\n",
    "    \"\"\"\n",
    "    This is doc string\n",
    "    We are multipplying x with y and then \n",
    "    adding z in the calculation.\"\"\"\n",
    "    return x*y+z\n",
    "print(fun(1, 2, 3))\n",
    "print(fun.__doc__)"
   ]
  },
  {
   "cell_type": "markdown",
   "metadata": {},
   "source": [
    "### 5. Are lambda functions in Python able to access variables defined outside of their own scope?Explain with an example.\n"
   ]
  },
  {
   "cell_type": "code",
   "execution_count": 24,
   "metadata": {},
   "outputs": [
    {
     "name": "stdout",
     "output_type": "stream",
     "text": [
      "15\n"
     ]
    }
   ],
   "source": [
    "# Yes, Lambda function in python able to access variables defined outside their own scope.\n",
    "\n",
    "c = 10 # outside scope\n",
    "\n",
    "d = (lambda x, y, z: x*y+z+c)(1, 2, 3) # lambda function with c which is defined outside scope\n",
    "print(d)\n",
    "\n"
   ]
  },
  {
   "cell_type": "markdown",
   "metadata": {},
   "source": [
    "### 6. Write a lambda function to calculate the square of a given number.\n"
   ]
  },
  {
   "cell_type": "code",
   "execution_count": 25,
   "metadata": {},
   "outputs": [
    {
     "name": "stdout",
     "output_type": "stream",
     "text": [
      "Enter number to evaluater : 10\n",
      "100\n"
     ]
    }
   ],
   "source": [
    "#Lambda function to calculate the square of a given number\n",
    "\n",
    "z = (lambda x: x**2)\n",
    "num = z(int(input(\"Enter number to evaluater : \")))\n",
    "print(num)\n",
    "\n",
    "\n"
   ]
  },
  {
   "cell_type": "markdown",
   "metadata": {},
   "source": [
    "### 7. Create a lambda function to find the maximum value in a list of integers.\n"
   ]
  },
  {
   "cell_type": "code",
   "execution_count": 26,
   "metadata": {},
   "outputs": [
    {
     "name": "stdout",
     "output_type": "stream",
     "text": [
      "220\n"
     ]
    }
   ],
   "source": [
    "#Lambda function to maximum value in a list of integers\n",
    "\n",
    "int_list = ['1', '10', '100', '111', '200', '220']\n",
    "print(max(int_list, key=lambda x:int(x)))"
   ]
  },
  {
   "cell_type": "markdown",
   "metadata": {},
   "source": [
    "### 8. Implement a lambda function to filter out all the even numbers from a list of integers.\n"
   ]
  },
  {
   "cell_type": "code",
   "execution_count": 27,
   "metadata": {},
   "outputs": [
    {
     "name": "stdout",
     "output_type": "stream",
     "text": [
      "[2, 4, 6, 8, 10]\n"
     ]
    }
   ],
   "source": [
    "# Lambda function to filter out all the even numbers from a list of integers.\n",
    "\n",
    "numbers = [1, 2, 3, 4, 5, 6, 7, 8, 9, 10]\n",
    "even_numbers = list(filter(lambda x: x%2 == 0, numbers))\n",
    "print(even_numbers)"
   ]
  },
  {
   "cell_type": "markdown",
   "metadata": {},
   "source": [
    "### 9. Write a lambda function to sort a list of strings in ascending order based on the length of each string."
   ]
  },
  {
   "cell_type": "code",
   "execution_count": 28,
   "metadata": {},
   "outputs": [
    {
     "name": "stdout",
     "output_type": "stream",
     "text": [
      "['I', 'in', 'my', 'was', 'busy', 'since', 'office', 'yesterday']\n"
     ]
    }
   ],
   "source": [
    "# Lambda function to sort a list of strings in ascending order based on the length of each string\n",
    "\n",
    "name_string = [\"I\", \"was\", \"busy\", \"in\", \"my\", \"office\", \"since\", \"yesterday\"]\n",
    "sorted_name_list = sorted(name_string, key=lambda x: len(x))\n",
    "print(sorted_name_list)"
   ]
  },
  {
   "cell_type": "markdown",
   "metadata": {},
   "source": [
    "### 10. Create a lambda function that takes two lists as input and returns a new list containing the common elements between the two lists.\n"
   ]
  },
  {
   "cell_type": "code",
   "execution_count": 29,
   "metadata": {},
   "outputs": [
    {
     "name": "stdout",
     "output_type": "stream",
     "text": [
      "[1, 2, 8, 9]\n"
     ]
    }
   ],
   "source": [
    "# Lambda function that takes two lists as input and returns a new list containing the common elements between the two lists\n",
    "\n",
    "array_nums1 = [1, 2, 3, 5, 7, 8, 9, 10]\n",
    "array_nums2 = [1, 2, 4, 8, 9]\n",
    "result = list(filter(lambda x: x in array_nums1, array_nums2)) \n",
    "print(result)\n",
    "\n"
   ]
  },
  {
   "cell_type": "markdown",
   "metadata": {},
   "source": [
    "### 11. Write a recursive function to calculate the factorial of a given positive integer.\n"
   ]
  },
  {
   "cell_type": "code",
   "execution_count": 30,
   "metadata": {},
   "outputs": [
    {
     "name": "stdout",
     "output_type": "stream",
     "text": [
      "Enter Number : 4\n"
     ]
    },
    {
     "data": {
      "text/plain": [
       "24"
      ]
     },
     "execution_count": 30,
     "metadata": {},
     "output_type": "execute_result"
    }
   ],
   "source": [
    "# Recursive function to calculate the factorial of a given positive integer.\n",
    "\n",
    "def recur_factorial(n):  \n",
    "    if n == 1:  \n",
    "        return n\n",
    "    elif n < 0:\n",
    "        print(\"Sorry, factorial does not exist for negative numbers\")\n",
    "    else:  \n",
    "        return n * recur_factorial(n-1)\n",
    "recur_factorial(int(input(\"Enter Number : \")))\n"
   ]
  },
  {
   "cell_type": "markdown",
   "metadata": {},
   "source": [
    "### 12. Implement a recursive function to compute the nth Fibonacci number.\n"
   ]
  },
  {
   "cell_type": "code",
   "execution_count": 31,
   "metadata": {},
   "outputs": [
    {
     "name": "stdout",
     "output_type": "stream",
     "text": [
      "Enter Number : 6\n"
     ]
    },
    {
     "data": {
      "text/plain": [
       "8"
      ]
     },
     "execution_count": 31,
     "metadata": {},
     "output_type": "execute_result"
    }
   ],
   "source": [
    "# Recursive function to compute the nth Fibonacci number\n",
    "\n",
    "def fibonacci(n):\n",
    "    if n <= 1:\n",
    "        return n \n",
    "    else:\n",
    "        return fibonacci(n-1) + fibonacci(n-2)\n",
    "fibonacci(int(input(\"Enter Number : \")))"
   ]
  },
  {
   "cell_type": "markdown",
   "metadata": {},
   "source": [
    "### 13. Create a recursive function to find the sum of all the elements in a given list.\n"
   ]
  },
  {
   "cell_type": "code",
   "execution_count": 32,
   "metadata": {},
   "outputs": [
    {
     "data": {
      "text/plain": [
       "15"
      ]
     },
     "execution_count": 32,
     "metadata": {},
     "output_type": "execute_result"
    }
   ],
   "source": [
    "# Recursive function to find the sum of all the elements of a given list.\n",
    "\n",
    "def findSum(list1): \n",
    "     if len(list1)== 1: \n",
    "        return list1[0] \n",
    "     else: \n",
    "        return list1[0]+findSum(list1[1:]) \n",
    "findSum([1, 2, 3, 4, 5])"
   ]
  },
  {
   "cell_type": "markdown",
   "metadata": {},
   "source": [
    "### 14. Write a recursive function to determine whether a given string is a palindrome.\n"
   ]
  },
  {
   "cell_type": "code",
   "execution_count": 33,
   "metadata": {},
   "outputs": [
    {
     "name": "stdout",
     "output_type": "stream",
     "text": [
      "Enter String : 1331\n",
      "The string is a palindrome\n"
     ]
    }
   ],
   "source": [
    "# Recursive function to check whether a given string is a palindrome\n",
    "\n",
    "def palindrome_or_not(input_str):\n",
    "    if len(input_str) < 1:\n",
    "        return True\n",
    "    else:\n",
    "        if input_str[0] == input_str[-1]:\n",
    "            return palindrome_or_not(input_str[1:-1])\n",
    "        else:\n",
    "            return False\n",
    "inp_str = input(\"Enter String : \")\n",
    "\n",
    "if(palindrome_or_not(inp_str)==True):\n",
    "    print(\"The string is a palindrome\")\n",
    "else:\n",
    "    print(\"The string is not a palindrome\")"
   ]
  },
  {
   "cell_type": "markdown",
   "metadata": {},
   "source": [
    "### 15. Implement a recursive function to find the greatest common divisor (GCD) of two positive integers."
   ]
  },
  {
   "cell_type": "code",
   "execution_count": 34,
   "metadata": {},
   "outputs": [
    {
     "data": {
      "text/plain": [
       "5"
      ]
     },
     "execution_count": 34,
     "metadata": {},
     "output_type": "execute_result"
    }
   ],
   "source": [
    "# Recursive function to find the greatest common divisor (GCD) of two positive integers\n",
    "\n",
    "def GCD(a, b):\n",
    "    if a == b:\n",
    "        return a\n",
    "    elif a < b:\n",
    "        return GCD(b, a)\n",
    "    else:\n",
    "        return GCD(b, a - b) \n",
    "GCD(25, 35)\n",
    "\n"
   ]
  },
  {
   "cell_type": "code",
   "execution_count": null,
   "metadata": {},
   "outputs": [],
   "source": []
  }
 ],
 "metadata": {
  "kernelspec": {
   "display_name": "Python 3",
   "language": "python",
   "name": "python3"
  },
  "language_info": {
   "codemirror_mode": {
    "name": "ipython",
    "version": 3
   },
   "file_extension": ".py",
   "mimetype": "text/x-python",
   "name": "python",
   "nbconvert_exporter": "python",
   "pygments_lexer": "ipython3",
   "version": "3.8.5"
  }
 },
 "nbformat": 4,
 "nbformat_minor": 4
}
