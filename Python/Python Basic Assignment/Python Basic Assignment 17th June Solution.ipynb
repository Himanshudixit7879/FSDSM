{
 "cells": [
  {
   "cell_type": "markdown",
   "metadata": {},
   "source": [
    "# Python Basic Assignment Solution\n"
   ]
  },
  {
   "cell_type": "markdown",
   "metadata": {},
   "source": [
    "# 17th June 2023\n"
   ]
  },
  {
   "cell_type": "markdown",
   "metadata": {},
   "source": [
    "# Submitted By : Himanshu Dixit"
   ]
  },
  {
   "cell_type": "markdown",
   "metadata": {},
   "source": [
    "### 1. What is the role of try and exception block?\n"
   ]
  },
  {
   "cell_type": "markdown",
   "metadata": {},
   "source": [
    "**Ans**\n",
    "In Python, we have exceptional handling as a process. When our program runs through an error then we use exceptional handling to give error and print specific error out of it. In which we use this try and exception block. \n",
    "`Try` block lets us test a block of code for errors.\n",
    "`Except` block lets you handle the error.\n"
   ]
  },
  {
   "cell_type": "code",
   "execution_count": 1,
   "metadata": {},
   "outputs": [
    {
     "ename": "NameError",
     "evalue": "name 'x' is not defined",
     "output_type": "error",
     "traceback": [
      "\u001b[1;31m---------------------------------------------------------------------------\u001b[0m",
      "\u001b[1;31mNameError\u001b[0m                                 Traceback (most recent call last)",
      "\u001b[1;32m<ipython-input-1-ca5eb1f9040f>\u001b[0m in \u001b[0;36m<module>\u001b[1;34m\u001b[0m\n\u001b[0;32m      1\u001b[0m \u001b[1;31m#normal function with error\u001b[0m\u001b[1;33m\u001b[0m\u001b[1;33m\u001b[0m\u001b[1;33m\u001b[0m\u001b[0m\n\u001b[1;32m----> 2\u001b[1;33m \u001b[0mprint\u001b[0m\u001b[1;33m(\u001b[0m\u001b[0mx\u001b[0m\u001b[1;33m)\u001b[0m\u001b[1;33m\u001b[0m\u001b[1;33m\u001b[0m\u001b[0m\n\u001b[0m\u001b[0;32m      3\u001b[0m \u001b[1;33m\u001b[0m\u001b[0m\n",
      "\u001b[1;31mNameError\u001b[0m: name 'x' is not defined"
     ]
    }
   ],
   "source": [
    "#normal function with error\n",
    "print(x)\n",
    "\n"
   ]
  },
  {
   "cell_type": "code",
   "execution_count": 2,
   "metadata": {},
   "outputs": [
    {
     "name": "stdout",
     "output_type": "stream",
     "text": [
      "There is no x\n"
     ]
    }
   ],
   "source": [
    "#exceptional handled function\n",
    "try:\n",
    "    print(x) #what code can throw an error / error will be in the try block\n",
    "except:\n",
    "    print(\"There is no x\") # After try, except will be executed"
   ]
  },
  {
   "cell_type": "markdown",
   "metadata": {},
   "source": [
    "### 2. What is the syntax for a basic try-except block?\n"
   ]
  },
  {
   "cell_type": "code",
   "execution_count": 1,
   "metadata": {},
   "outputs": [
    {
     "name": "stdout",
     "output_type": "stream",
     "text": [
      "There is no x\n"
     ]
    }
   ],
   "source": [
    "# For try-except block. We use try and except in the function where try finds the error and except handles it.\n",
    "\n",
    "try: # finds the error\n",
    "    print(x)\n",
    "except: # handles the error\n",
    "    print(\"There is no x\") # After try, except will be executed"
   ]
  },
  {
   "cell_type": "markdown",
   "metadata": {},
   "source": [
    "### 3. What happens if an exception occurs inside a try block and there is no matching except block?\n"
   ]
  },
  {
   "cell_type": "markdown",
   "metadata": {},
   "source": [
    "When an exception occurs inside a try block and there is no matching except block in the code then the program will throw the error with the excception for that code if it's aviable in python.\n",
    "\n"
   ]
  },
  {
   "cell_type": "code",
   "execution_count": 29,
   "metadata": {},
   "outputs": [
    {
     "name": "stdout",
     "output_type": "stream",
     "text": [
      "Enter num1 : 0\n",
      "Enter num2 : 0\n"
     ]
    },
    {
     "ename": "ZeroDivisionError",
     "evalue": "division by zero",
     "output_type": "error",
     "traceback": [
      "\u001b[1;31m---------------------------------------------------------------------------\u001b[0m",
      "\u001b[1;31mZeroDivisionError\u001b[0m                         Traceback (most recent call last)",
      "\u001b[1;32m<ipython-input-29-22d5a189810b>\u001b[0m in \u001b[0;36m<module>\u001b[1;34m\u001b[0m\n\u001b[0;32m      4\u001b[0m     \u001b[0md\u001b[0m \u001b[1;33m=\u001b[0m \u001b[0mint\u001b[0m\u001b[1;33m(\u001b[0m\u001b[0minput\u001b[0m\u001b[1;33m(\u001b[0m\u001b[1;34m\"Enter num2 : \"\u001b[0m\u001b[1;33m)\u001b[0m\u001b[1;33m)\u001b[0m\u001b[1;33m\u001b[0m\u001b[1;33m\u001b[0m\u001b[0m\n\u001b[0;32m      5\u001b[0m \u001b[1;33m\u001b[0m\u001b[0m\n\u001b[1;32m----> 6\u001b[1;33m     \u001b[0mresult\u001b[0m \u001b[1;33m=\u001b[0m \u001b[0mn\u001b[0m \u001b[1;33m/\u001b[0m \u001b[0md\u001b[0m\u001b[1;33m\u001b[0m\u001b[1;33m\u001b[0m\u001b[0m\n\u001b[0m\u001b[0;32m      7\u001b[0m     \u001b[0mprint\u001b[0m\u001b[1;33m(\u001b[0m\u001b[1;34m\"Result : \"\u001b[0m\u001b[1;33m,\u001b[0m \u001b[0mresult\u001b[0m\u001b[1;33m)\u001b[0m\u001b[1;33m\u001b[0m\u001b[1;33m\u001b[0m\u001b[0m\n\u001b[0;32m      8\u001b[0m \u001b[1;31m#except ZeroDivisionError:\u001b[0m\u001b[1;33m\u001b[0m\u001b[1;33m\u001b[0m\u001b[1;33m\u001b[0m\u001b[0m\n",
      "\u001b[1;31mZeroDivisionError\u001b[0m: division by zero"
     ]
    }
   ],
   "source": [
    "#not using zerodivision error code over here. So, we will get the zerodivision error in the code.\n",
    "try:\n",
    "    n = int(input(\"Enter num1 : \"))\n",
    "    d = int(input(\"Enter num2 : \"))\n",
    "    \n",
    "    result = n / d\n",
    "    print(\"Result : \", result)\n",
    "#except ZeroDivisionError:\n",
    "    #print(\"You have divided the number by zero\")\n",
    "except ValueError:\n",
    "    print(\"It should interger but you entered float\")"
   ]
  },
  {
   "cell_type": "markdown",
   "metadata": {},
   "source": [
    "### 4. What is the difference between using a bare except block and specifying a specific exception type?\n"
   ]
  },
  {
   "cell_type": "markdown",
   "metadata": {},
   "source": [
    "When we will be using a bare except in the program then whatever the error will be there in the program it will throw the except block message directly nothing other than this. But when we specifty a exception block then it will give the specific error which will be occuring there in the program first of all.\n",
    "\n"
   ]
  },
  {
   "cell_type": "code",
   "execution_count": 5,
   "metadata": {},
   "outputs": [
    {
     "name": "stdout",
     "output_type": "stream",
     "text": [
      "Enter num1 : 0\n",
      "Enter num2 : 0\n",
      "You have divided the number by zero\n"
     ]
    }
   ],
   "source": [
    "# here we will be seeing that it encuntered the zerodivision error that's why program has taken the zerodivision error at first\n",
    "try:\n",
    "    n = int(input(\"Enter num1 : \"))\n",
    "    d = int(input(\"Enter num2 : \"))\n",
    "    result = n / d\n",
    "    print(\"Result : \", result)\n",
    "except ZeroDivisionError:\n",
    "    print(\"You have divided the number by zero\")\n",
    "except ValueError:\n",
    "    print(\"It should interger but you entered float\")"
   ]
  },
  {
   "cell_type": "markdown",
   "metadata": {},
   "source": [
    "### 5. Can you have nested try-except blocks in Python? If yes, then give an example.\n"
   ]
  },
  {
   "cell_type": "code",
   "execution_count": 6,
   "metadata": {},
   "outputs": [
    {
     "name": "stdout",
     "output_type": "stream",
     "text": [
      "outer try block\n",
      "nested try block\n",
      "outer except block\n"
     ]
    }
   ],
   "source": [
    "#Yes, we can have nested try-except block in python.\n",
    "\n",
    "# nested try-except block\n",
    "x = 10\n",
    "y = 0\n",
    "try:\n",
    "    print(\"outer try block\")\n",
    "    try:\n",
    "        print(\"nested try block\")\n",
    "        print(x / y)\n",
    "    except TypeError:\n",
    "        print(\"nested except block\")\n",
    "except ZeroDivisionError:\n",
    "    print(\"outer except block\")\n"
   ]
  },
  {
   "cell_type": "markdown",
   "metadata": {},
   "source": [
    "### 6. Can we use multiple exception blocks, if yes then give an example.\n"
   ]
  },
  {
   "cell_type": "code",
   "execution_count": 7,
   "metadata": {},
   "outputs": [
    {
     "name": "stdout",
     "output_type": "stream",
     "text": [
      "can only concatenate str (not \"int\") to str\n"
     ]
    }
   ],
   "source": [
    "# Yes, we can use multiple exception blocks.\n",
    "\n",
    "try:\n",
    "    name = 'Bob'\n",
    "    name += 5\n",
    "except NameError as ne:\n",
    "    # Code to handle NameError\n",
    "    print(ne)\n",
    "except TypeError as te:\n",
    "    # Code to handle TypeError\n",
    "    print(te)"
   ]
  },
  {
   "cell_type": "markdown",
   "metadata": {},
   "source": [
    "### 7. Write the reason due to which following errors are raised:\n",
    "`a. EOFError\n",
    " b. FloatingPointError\n",
    " c. IndexError\n",
    " d. MemoryError\n",
    " e. OverflowError\n",
    " f. TabError\n",
    " g. ValueError`\n",
    "\n"
   ]
  },
  {
   "cell_type": "markdown",
   "metadata": {},
   "source": [
    "**Ans**\n",
    "a. EOFError : This means \"End-of-Line Error.\" This error occurs when Python has reached the end of user input without receiving any input.\n",
    "\n",
    "b. FloatingPointError : This error occurs when we calcuate in Python and python has a big floating value. like for 10/3 = 3.33333333.......\n",
    "\n",
    "c. IndexError : This error occurs when an attempt is made to access an item in a list at an index which is out of bounds. \n",
    "\n",
    "d. MemoryError : A MemoryError means that the interpreter has run out of memory to allocate to your Python program. \n",
    "\n",
    "e. OverflowError : An OverflowError exception is raised when an arithmetic operation exceeds the limits to be represented. \n",
    "\n",
    "f. TabError : The inconsistent use of tabs and spaces in indentation\" occurs when we mix tabs and spaces in the same code block. \n",
    "\n",
    "g. ValueError : It is raised when a function receives an argument of the correct type but an inappropriate value. Also, the situation should not be described by a more precise exception such as IndexError. \n"
   ]
  },
  {
   "cell_type": "code",
   "execution_count": 3,
   "metadata": {},
   "outputs": [
    {
     "name": "stdout",
     "output_type": "stream",
     "text": [
      "asdas\n",
      "asdas\n"
     ]
    }
   ],
   "source": [
    "\n",
    "# EOFError\n",
    "try:\n",
    "    string = input()\n",
    "    print(string)\n",
    "except EOFError:\n",
    "    print(\"no data provided to input function\")\n"
   ]
  },
  {
   "cell_type": "code",
   "execution_count": null,
   "metadata": {},
   "outputs": [],
   "source": [
    "# FloatingPointError\n",
    "try:\n",
    "    n = int(input(\"Enter num1 : \"))\n",
    "    d = int(input(\"Enter num2 : \"))\n",
    "    result = n / d\n",
    "    print(\"Result : \", result)\n",
    "except FloatingPointError:\n",
    "    print(\"You have a big floating number\")"
   ]
  },
  {
   "cell_type": "code",
   "execution_count": null,
   "metadata": {},
   "outputs": [],
   "source": [
    "#Index Error\n",
    "try:\n",
    "    list1 =[1, 2, 3, 4]\n",
    "    print(list1[4])\n",
    "except IndexError:\n",
    "    print(\"Index Error\")\n"
   ]
  },
  {
   "cell_type": "code",
   "execution_count": null,
   "metadata": {},
   "outputs": [],
   "source": [
    "# MemoryError\n",
    "try:\n",
    "    big_list = [1] * (10 ** 12)\n",
    "except MemoryError:\n",
    "    print(\"Insufficient memory for the list\")"
   ]
  },
  {
   "cell_type": "code",
   "execution_count": null,
   "metadata": {},
   "outputs": [],
   "source": [
    "# OverflowError\n",
    "try:\n",
    "    result = 5000 ** 10\n",
    "except OverflowError:\n",
    "    print(\"Too Big Calculation\")\n",
    "else:\n",
    "    print(result)"
   ]
  },
  {
   "cell_type": "code",
   "execution_count": 27,
   "metadata": {},
   "outputs": [
    {
     "name": "stdout",
     "output_type": "stream",
     "text": [
      "Please enter a positive number:\n",
      "5\n",
      "Square Root of 5 is 3125\n"
     ]
    }
   ],
   "source": [
    "# TabError\n",
    "x = int(input('Please enter a positive number:\\n'))\n",
    "try:\n",
    "     print(f'Square Root of {x} is {x**2}')\n",
    "except TabError:\n",
    "    print(\"TabError\")"
   ]
  },
  {
   "cell_type": "code",
   "execution_count": 24,
   "metadata": {},
   "outputs": [
    {
     "name": "stdout",
     "output_type": "stream",
     "text": [
      "Please enter a positive number:\n",
      "5\n",
      "Square Root of 5 is 3125\n"
     ]
    }
   ],
   "source": [
    "# ValueError\n",
    "x = int(input('Please enter a positive number:\\n'))\n",
    "try:\n",
    "        print(f'Square Root of {x} is {x**x}')\n",
    "except ValueError:\n",
    "    print(\" ValueError\")"
   ]
  },
  {
   "cell_type": "markdown",
   "metadata": {},
   "source": [
    "### 8. Write code for the following given scenario and add try-exception block to it.\n",
    "`a. Program to divide two numbers\n",
    " b. Program to convert a string to an integer\n",
    " c. Program to access an element in a list\n",
    " d. Program to handle a specific exception\n",
    " e. Program to handle any exception`"
   ]
  },
  {
   "cell_type": "code",
   "execution_count": 8,
   "metadata": {},
   "outputs": [
    {
     "name": "stdout",
     "output_type": "stream",
     "text": [
      "Enter num1 : 10\n",
      "Enter num2 : 0\n",
      "You have divided the number by zero\n"
     ]
    }
   ],
   "source": [
    "# A Program to divide two numbers\n",
    "\n",
    "try:\n",
    "    n = int(input(\"Enter num1 : \"))\n",
    "    d = int(input(\"Enter num2 : \"))\n",
    "    \n",
    "    result = n / d\n",
    "    print(\"Result : \", result)\n",
    "except ZeroDivisionError:\n",
    "    print(\"You have divided the number by zero\")\n",
    "except ValueError:\n",
    "    print(\"It should interger but you entered float\")\n"
   ]
  },
  {
   "cell_type": "code",
   "execution_count": 9,
   "metadata": {},
   "outputs": [
    {
     "name": "stdout",
     "output_type": "stream",
     "text": [
      "123\n"
     ]
    }
   ],
   "source": [
    "# B Program to convert a string to an integer\n",
    "string = \"123\"\n",
    "try:\n",
    "    string_int = int(string)\n",
    "    print(string_int)\n",
    "except ValueError:\n",
    "    # Handle the exception\n",
    "    print('Please enter an integer')"
   ]
  },
  {
   "cell_type": "code",
   "execution_count": 10,
   "metadata": {},
   "outputs": [
    {
     "name": "stdout",
     "output_type": "stream",
     "text": [
      "Index Error\n"
     ]
    }
   ],
   "source": [
    "# C Program to access an element in a list\n",
    "try:\n",
    "    list1 =[1, 2, 3, 4]\n",
    "    print(list1[4])\n",
    "except IndexError:\n",
    "    print(\"Index Error\")"
   ]
  },
  {
   "cell_type": "code",
   "execution_count": 11,
   "metadata": {},
   "outputs": [
    {
     "name": "stdout",
     "output_type": "stream",
     "text": [
      "KeyError error occurred.\n"
     ]
    }
   ],
   "source": [
    "# D Program to handle a specific exception - key error\n",
    "try:\n",
    "    my_dictionary = {\"name\": \"John\", \"age\": 30}\n",
    "    print(my_dictionary[\"city\"])  # Accessing a KEY which does not exist\n",
    "except KeyError:\n",
    "    print(\"KeyError error occurred.\")"
   ]
  },
  {
   "cell_type": "code",
   "execution_count": 12,
   "metadata": {},
   "outputs": [
    {
     "name": "stdout",
     "output_type": "stream",
     "text": [
      "Error occurred.\n"
     ]
    }
   ],
   "source": [
    "# E Program to handle any exception\n",
    "try:\n",
    "    my_dictionary = {\"name\": \"John\", \"age\": 30}\n",
    "    print(my_dictionary[\"city\"])  # Accessing a KEY which does not exist\n",
    "except:\n",
    "    print(\"Error occurred.\")"
   ]
  },
  {
   "cell_type": "code",
   "execution_count": null,
   "metadata": {},
   "outputs": [],
   "source": []
  }
 ],
 "metadata": {
  "kernelspec": {
   "display_name": "Python 3",
   "language": "python",
   "name": "python3"
  },
  "language_info": {
   "codemirror_mode": {
    "name": "ipython",
    "version": 3
   },
   "file_extension": ".py",
   "mimetype": "text/x-python",
   "name": "python",
   "nbconvert_exporter": "python",
   "pygments_lexer": "ipython3",
   "version": "3.8.5"
  }
 },
 "nbformat": 4,
 "nbformat_minor": 4
}
